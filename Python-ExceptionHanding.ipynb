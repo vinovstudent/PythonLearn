{
 "cells": [
  {
   "cell_type": "code",
   "execution_count": null,
   "metadata": {},
   "outputs": [],
   "source": [
    "from functools import reduce\n",
    "def getUserValue():\n",
    "    i=0\n",
    "    try:\n",
    "        i=int(input('Enter a value to find factorial:'))\n",
    "        if i<0:\n",
    "            print('Enter valid number!')\n",
    "            i = getUserValue()\n",
    "            print(i)\n",
    "        return i;\n",
    "    except:\n",
    "        print('Enter valid number')\n",
    "        i = getUserValue()\n",
    "    finally:\n",
    "        return i;\n",
    "\n",
    "i=getUserValue()\n",
    "print(i)\n",
    "reduce(lambda x,y:x*y, list(range(1,i+1)))"
   ]
  },
  {
   "cell_type": "code",
   "execution_count": null,
   "metadata": {},
   "outputs": [],
   "source": []
  },
  {
   "cell_type": "code",
   "execution_count": null,
   "metadata": {},
   "outputs": [],
   "source": []
  }
 ],
 "metadata": {
  "kernelspec": {
   "display_name": "Python 3",
   "language": "python",
   "name": "python3"
  },
  "language_info": {
   "codemirror_mode": {
    "name": "ipython",
    "version": 3
   },
   "file_extension": ".py",
   "mimetype": "text/x-python",
   "name": "python",
   "nbconvert_exporter": "python",
   "pygments_lexer": "ipython3",
   "version": "3.6.5"
  }
 },
 "nbformat": 4,
 "nbformat_minor": 2
}
