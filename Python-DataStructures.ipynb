{
 "cells": [
  {
   "cell_type": "code",
   "execution_count": 7,
   "metadata": {},
   "outputs": [
    {
     "name": "stdout",
     "output_type": "stream",
     "text": [
      "10\n",
      "20\n",
      "30\n"
     ]
    }
   ],
   "source": [
    "#Array\n",
    "from array import *\n",
    "array1 = array('i', [10,20,30])\n",
    "for i in array1:\n",
    "    print (i);"
   ]
  },
  {
   "cell_type": "code",
   "execution_count": 18,
   "metadata": {},
   "outputs": [
    {
     "name": "stdout",
     "output_type": "stream",
     "text": [
      "devi\n",
      "3\n",
      "anto\n",
      "Devi Loganathan\n",
      "dhivya\n",
      "grace\n",
      "JP\n",
      "Muthu\n",
      "Sathya\n",
      "Vino\n",
      "['Devi Loganathan', 'dhivya', 'grace', 'JP']\n"
     ]
    }
   ],
   "source": [
    "#List implementation\n",
    "list1 = ['anto','devi','dhivya','grace']\n",
    "print (list1[1])\n",
    "\n",
    "list2 = [1,2,3,4]\n",
    "print(list2[2])\n",
    "\n",
    "#update list\n",
    "list1[1]='Devi Loganathan'\n",
    "\n",
    "#Add data\n",
    "list1.append('JP')\n",
    "list1.append('Muthu')\n",
    "list1.append('Sathya')\n",
    "list1.append('Vino')\n",
    "#loop through the list\n",
    "for i in list1:\n",
    "    print (i);\n",
    "    \n",
    "#Print a set from the list\n",
    "print(list1[1:5])"
   ]
  },
  {
   "cell_type": "code",
   "execution_count": 25,
   "metadata": {},
   "outputs": [
    {
     "name": "stdout",
     "output_type": "stream",
     "text": [
      "c\n",
      "--tuple activities(t2)--\n",
      "anto\n",
      "devi\n",
      "dhivya\n",
      "grace\n",
      "('anto', 'devi', 'dhivya', 'grace', 'JP')\n",
      "('anto', 'devi', 'dhivya', 'grace', 'JP', 'Muthu', 'Dathya', 'Vinoth')\n",
      "('anto', 'devi', 'dhivya', 'grace', 'JP', 'Muthu', 'Sathya', 'Vino')\n"
     ]
    }
   ],
   "source": [
    "#Tuple implementation: Immutable data structure\n",
    "\n",
    "#Declare a tuple\n",
    "t1 = \"a\",\"b\",\"c\"\n",
    "print(t1[2])\n",
    "print(\"--tuple activities(t2)--\")\n",
    "t2 = ('anto','devi','dhivya','grace')\n",
    "\n",
    "#Loop through the tuple t2\n",
    "for i in t2:\n",
    "    print(i)\n",
    "\n",
    "#Add new values to tuple t2 \n",
    "l = list(t2)\n",
    "l.append('JP')\n",
    "t2 = tuple(l)\n",
    "\n",
    "print(t2)\n",
    "\n",
    "#Add more\n",
    "l = list(t2)\n",
    "l.append('Muthu')\n",
    "l.append('Dathya')\n",
    "l.append('Vinoth')\n",
    "t2=tuple(l)\n",
    "\n",
    "print(t2)\n",
    "\n",
    "#Update values\n",
    "l = list(t2)\n",
    "l[6] = 'Sathya'\n",
    "l[7] = 'Vino'\n",
    "t2 = tuple(l)\n",
    "\n",
    "print(t2)"
   ]
  },
  {
   "cell_type": "code",
   "execution_count": null,
   "metadata": {},
   "outputs": [],
   "source": []
  }
 ],
 "metadata": {
  "kernelspec": {
   "display_name": "Python 3",
   "language": "python",
   "name": "python3"
  },
  "language_info": {
   "codemirror_mode": {
    "name": "ipython",
    "version": 3
   },
   "file_extension": ".py",
   "mimetype": "text/x-python",
   "name": "python",
   "nbconvert_exporter": "python",
   "pygments_lexer": "ipython3",
   "version": "3.6.5"
  }
 },
 "nbformat": 4,
 "nbformat_minor": 2
}
